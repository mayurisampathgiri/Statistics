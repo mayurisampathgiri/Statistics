{
 "cells": [
  {
   "cell_type": "code",
   "execution_count": 2,
   "id": "a164eb82",
   "metadata": {},
   "outputs": [
    {
     "name": "stdout",
     "output_type": "stream",
     "text": [
      "-----------Welch Two Sample T Test-----------\n",
      "\t------Summary Statistics------\n",
      "              T        dof alternative     p-val            CI95%   cohen-d  \\\n",
      "T-test -2.76694  13.195564   two-sided  0.015827  [-26.69, -3.31]  1.237413   \n",
      "\n",
      "         BF10     power  \n",
      "T-test  4.365  0.744418  \n"
     ]
    }
   ],
   "source": [
    "#import the required libraries for computation.\n",
    "import pandas as pd\n",
    "import numpy as np\n",
    "import researchpy as rp\n",
    "import pingouin as pg\n",
    "#loads data from csv file using pandas.\n",
    "data = pd.read_csv(\"C:\\\\Users\\\\Mayur\\\\OneDrive\\\\Documents\\\\PythonStat\\\\Arsenic.csv\")\n",
    "#stores the data in a dataframe.\n",
    "df = pd.DataFrame(data, columns = ['Metro', 'Rural'])\n",
    "#stores the data frame as individual numpy array \n",
    "metro = df[['Metro']].to_numpy()\n",
    "rural = df[['Rural']].to_numpy()\n",
    "#convert a ndarray to an array of int/float for pingouin to accept the input \n",
    "a = np.array(metro.tolist()).flatten()\n",
    "b = np.array(rural.tolist()).flatten()\n",
    "# the above can also be written as \n",
    "# metro = df[['Metro']].to_numpy().tolist().flatten()\n",
    "# print(a, b)\n",
    "# here we use the pingouin package for a summary of statistics\n",
    "# use pingouin.ttest(x, y, paired=False, alternative='two-sided', correction='auto', r=0.707, confidence=0.95)\n",
    "# x , y - 2 columns of data\n",
    "# paired - True if the data is dependent and False if they are independent (False by default)\n",
    "# alternative - “two-sided” (default), “greater” or “less” (greater if x1 > x2)\n",
    "# For unpaired two sample T-tests, specify whether or not to correct for unequal variances using Welch separate variances T-test.\n",
    "# If ‘auto’, it will automatically uses Welch T-test when the sample sizes are unequal.\n",
    "# confidence - confidence interval (1 - alpha). 0.95 by default.\n",
    "result = pg.ttest(a, b, correction=True)   \n",
    "print(\"-----------Welch Two Sample T Test-----------\\n\\t------Summary Statistics------\")\n",
    "print(result)"
   ]
  },
  {
   "cell_type": "code",
   "execution_count": 3,
   "id": "bbc88057",
   "metadata": {},
   "outputs": [
    {
     "name": "stdout",
     "output_type": "stream",
     "text": [
      "Madhav\n"
     ]
    }
   ],
   "source": [
    "print(\"Madhav\")"
   ]
  }
 ],
 "metadata": {
  "kernelspec": {
   "display_name": "Python 3 (ipykernel)",
   "language": "python",
   "name": "python3"
  },
  "language_info": {
   "codemirror_mode": {
    "name": "ipython",
    "version": 3
   },
   "file_extension": ".py",
   "mimetype": "text/x-python",
   "name": "python",
   "nbconvert_exporter": "python",
   "pygments_lexer": "ipython3",
   "version": "3.9.7"
  }
 },
 "nbformat": 4,
 "nbformat_minor": 5
}
