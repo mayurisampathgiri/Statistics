{
 "cells": [
  {
   "cell_type": "code",
   "execution_count": 7,
   "id": "20ff0882",
   "metadata": {},
   "outputs": [
    {
     "name": "stdout",
     "output_type": "stream",
     "text": [
      "Power_divergenceResult(statistic=29.73333333333333, pvalue=1.5702995849852859e-06)\n"
     ]
    }
   ],
   "source": [
    "#Lecture 8 Code\n",
    "# GOODNESS OF FIT TEST\n",
    "# importing packages\n",
    "import scipy.stats as stats\n",
    "import numpy as np\n",
    "obs = [32, 15, 9, 4]\n",
    "total_freq = sum(obs)\n",
    "expected_freq = total_freq/len(obs)\n",
    "exp = [expected_freq] * len(obs) \n",
    "chiSquare = stats.chisquare(obs, exp)\n",
    "print(chiSquare)"
   ]
  },
  {
   "cell_type": "code",
   "execution_count": 10,
   "id": "c46a1844",
   "metadata": {},
   "outputs": [
    {
     "name": "stdout",
     "output_type": "stream",
     "text": [
      "(49.63235294117647, 1.6690582619123915e-11, 2, array([[136., 136.,  68.],\n",
      "       [ 64.,  64.,  32.]]))\n"
     ]
    }
   ],
   "source": [
    "##Contingency table test\n",
    "obs2 = np.array([[160, 140, 40], [40, 60, 60]])\n",
    "print(stats.chi2_contingency(obs2))"
   ]
  },
  {
   "cell_type": "code",
   "execution_count": 11,
   "id": "a5e05a96",
   "metadata": {},
   "outputs": [],
   "source": [
    "#one-sample sign test\n",
    "#the one sample sign test simply computes a significance test of a hypothesized median value for a single data set\n"
   ]
  },
  {
   "cell_type": "code",
   "execution_count": 15,
   "id": "9003f021",
   "metadata": {},
   "outputs": [
    {
     "name": "stdout",
     "output_type": "stream",
     "text": [
      "WilcoxonResult(statistic=60.0, pvalue=0.09730720520019531)\n"
     ]
    }
   ],
   "source": [
    "#wilcoxon sign ranked test\n",
    "import pandas as pd\n",
    "data = pd.read_csv(\"C:\\\\Users\\\\Mayur\\\\OneDrive\\\\Documents\\\\PythonStat\\\\Shear.csv\")\n",
    "df = pd.DataFrame(data, columns = ['xi', 'xi-2000'])\n",
    "y = np.array(df[['xi-2000']].to_numpy().tolist()).flatten()\n",
    "print(stats.wilcoxon(y))"
   ]
  }
 ],
 "metadata": {
  "kernelspec": {
   "display_name": "Python 3 (ipykernel)",
   "language": "python",
   "name": "python3"
  },
  "language_info": {
   "codemirror_mode": {
    "name": "ipython",
    "version": 3
   },
   "file_extension": ".py",
   "mimetype": "text/x-python",
   "name": "python",
   "nbconvert_exporter": "python",
   "pygments_lexer": "ipython3",
   "version": "3.9.7"
  }
 },
 "nbformat": 4,
 "nbformat_minor": 5
}
