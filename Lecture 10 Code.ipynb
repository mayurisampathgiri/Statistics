{
 "cells": [
  {
   "cell_type": "code",
   "execution_count": 22,
   "id": "9dac93eb",
   "metadata": {},
   "outputs": [
    {
     "name": "stdout",
     "output_type": "stream",
     "text": [
      "b0 =  74.28331424039727\n",
      "b1 =  14.947479732109313\n",
      "The confidence interval of b1 is:  [12.18107326146663, 17.713886202751997]\n",
      "The confidence interval of b0 (intercept) is:  [70.93555090467277, 77.63107757612178]\n"
     ]
    }
   ],
   "source": [
    "#Lecture 10 Code\n",
    "from scipy import stats\n",
    "import pandas as pd\n",
    "from statsmodels.formula.api import ols\n",
    "from statsmodels.stats.anova import anova_lm\n",
    "oxygendata = pd.read_csv(\"C:\\\\Users\\\\Mayur\\\\OneDrive\\\\Documents\\\\PythonStat\\\\OxygenPurity.csv\")\n",
    "x = oxygendata['x'].values\n",
    "y = oxygendata['y'].values\n",
    "n = len(y)\n",
    "xy = x * y\n",
    "xx = x * x\n",
    "b1 = (xy.mean() - x.mean() * y.mean()) / (xx.mean() - x.mean()**2)\n",
    "b0 = y.mean() - b1 * x.mean()\n",
    "s2 = 1./n * sum([(y[i] - b0 - b1 * x[i])**2 for i in range(n)])\n",
    "print ('b0 = ',b0)\n",
    "print ('b1 = ',b1)\n",
    "alp = 0.05\n",
    "def conf_interval(x,y,alp):\n",
    "    c = -1 * stats.t.ppf(alp/2., n-2)\n",
    "    bb1 = c * (s2 / ((n-2) * (xx.mean() - (x.mean())**2)))**.5\n",
    "    print('The confidence interval of b1 is: ',[b1-bb1,b1+bb1])\n",
    "    bb0 = c * ((s2 / (n-2)) * (1 + (x.mean())**2 / (xx.mean() - (x.mean())**2)))**.5\n",
    "    print('The confidence interval of b0 (intercept) is: ',[b0-bb0,b0+bb0])\n",
    "    return None\n",
    "conf_interval(x,y,alp)"
   ]
  },
  {
   "cell_type": "code",
   "execution_count": 23,
   "id": "0e858798",
   "metadata": {},
   "outputs": [
    {
     "name": "stdout",
     "output_type": "stream",
     "text": [
      "            df      sum_sq     mean_sq           F        PR(>F)\n",
      "x          1.0  152.127078  152.127078  128.861694  1.227314e-09\n",
      "Residual  18.0   21.249817    1.180545         NaN           NaN\n"
     ]
    }
   ],
   "source": [
    "#Oxygen Purity with ANOVA\n",
    "df = pd.DataFrame(oxygendata, columns = ['x', 'y'])\n",
    "model = ols(\"y~x\",df).fit()\n",
    "print(anova_lm(model))"
   ]
  }
 ],
 "metadata": {
  "kernelspec": {
   "display_name": "Python 3 (ipykernel)",
   "language": "python",
   "name": "python3"
  },
  "language_info": {
   "codemirror_mode": {
    "name": "ipython",
    "version": 3
   },
   "file_extension": ".py",
   "mimetype": "text/x-python",
   "name": "python",
   "nbconvert_exporter": "python",
   "pygments_lexer": "ipython3",
   "version": "3.9.7"
  }
 },
 "nbformat": 4,
 "nbformat_minor": 5
}
