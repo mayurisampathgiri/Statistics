{
 "cells": [
  {
   "cell_type": "code",
   "execution_count": 3,
   "id": "4333af86",
   "metadata": {},
   "outputs": [
    {
     "name": "stdout",
     "output_type": "stream",
     "text": [
      "               T  dof alternative     p-val  \\\n",
      "T-test  0.354428   13   two-sided  0.728701   \n",
      "\n",
      "                                          CI90%   cohen-d   BF10     power  \n",
      "T-test  [-4.795907342994176, 7.195907342994178]  0.113128  0.285  0.067867   \n",
      "-----------------\n"
     ]
    }
   ],
   "source": [
    "#Lecture 7 Code\n",
    "import pandas as pd\n",
    "import numpy as np\n",
    "import pingouin as pg\n",
    "data = pd.read_csv(\"C:\\\\Users\\\\Mayur\\\\OneDrive\\\\Documents\\\\PythonStat\\\\ParallelPark.csv\")\n",
    "\n",
    "#save the data as a dataframe using pandas\n",
    "df = pd.DataFrame(data, columns = ['x1', 'x2'])\n",
    "x1 = np.array(df[['x1']].to_numpy().tolist()).flatten()\n",
    "x2 = np.array(df[['x2']].to_numpy().tolist()).flatten()\n",
    "summary = pg.ttest(x1,x2, paired = True, alternative = 'two-sided', confidence = 0.90)\n",
    "print(summary, \"\\n-----------------\")"
   ]
  },
  {
   "cell_type": "code",
   "execution_count": 4,
   "id": "e7943a4f",
   "metadata": {},
   "outputs": [
    {
     "name": "stdout",
     "output_type": "stream",
     "text": [
      "               T  dof alternative     p-val         CI95%  cohen-d     BF10  \\\n",
      "T-test  6.081939    8   two-sided  0.000295  [0.17, 0.38]  2.51266  113.292   \n",
      "\n",
      "           power  \n",
      "T-test  0.999997  \n"
     ]
    }
   ],
   "source": [
    "girdersdata = pd.read_csv(\"C:\\\\Users\\\\Mayur\\\\OneDrive\\\\Documents\\\\PythonStat\\\\Girders.csv\")\n",
    "df2 = pd.DataFrame(girdersdata, columns = ['k', 'l'])\n",
    "karlsruhe = np.array(df2[['k']].to_numpy().tolist()).flatten()\n",
    "lehigh = np.array(df2[['l']].to_numpy().tolist()).flatten()\n",
    "summary2 = pg.ttest(karlsruhe, lehigh, paired = True, alternative = 'two-sided', confidence = 0.95)\n",
    "print(summary2)"
   ]
  }
 ],
 "metadata": {
  "kernelspec": {
   "display_name": "Python 3 (ipykernel)",
   "language": "python",
   "name": "python3"
  },
  "language_info": {
   "codemirror_mode": {
    "name": "ipython",
    "version": 3
   },
   "file_extension": ".py",
   "mimetype": "text/x-python",
   "name": "python",
   "nbconvert_exporter": "python",
   "pygments_lexer": "ipython3",
   "version": "3.9.7"
  }
 },
 "nbformat": 4,
 "nbformat_minor": 5
}
